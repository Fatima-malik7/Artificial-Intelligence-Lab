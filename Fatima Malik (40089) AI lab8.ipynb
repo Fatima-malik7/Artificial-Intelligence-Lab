{
 "cells": [
  {
   "cell_type": "markdown",
   "id": "8d568d3c-1cf0-4811-9816-8750ce363807",
   "metadata": {},
   "source": [
    "Graphs in Python"
   ]
  },
  {
   "cell_type": "code",
   "execution_count": null,
   "id": "03d61edd-0ffd-4b49-abdd-3059c0feedc4",
   "metadata": {},
   "outputs": [],
   "source": [
    "#Question:\n",
    "\n",
    "1. create a graph using a defaultdict and then generate and print all its edges.\n",
    "2.The addEdge function is used to add directed edges to the graph,\n",
    "3. generate_edges function is used to extract all edges \n",
    "from the graph and print them out.  \n",
    "4.append() is used to add elements to lists, \n",
    "5.add neighboring nodes to the adjacency lists of each node\n",
    "in the graph."
   ]
  },
  {
   "cell_type": "code",
   "execution_count": 1,
   "id": "69585201-c416-4cfc-bce3-7109efee5628",
   "metadata": {},
   "outputs": [
    {
     "name": "stdout",
     "output_type": "stream",
     "text": [
      "[('a', 'c'), ('b', 'c'), ('b', 'e'), ('c', 'd'), ('c', 'e'), ('c', 'a'), ('c', 'b'), ('e', 'b'), ('e', 'c'), ('d', 'c')]\n"
     ]
    }
   ],
   "source": [
    "from collections import defaultdict\n",
    "# Function to add an edge to the graph\n",
    "def addEdge(graph, u, v):\n",
    "    graph[u].append(v)\n",
    "# Function to generate edges from the graph\n",
    "def generate_edges(graph):\n",
    "    edges = []\n",
    "    for node in graph:\n",
    "        for neighbour in graph[node]:\n",
    "            edges.append((node, neighbour))\n",
    "    return edges\n",
    "# Initialize the graph as a defaultdict of lists\n",
    "# retrieve a list of all edges in graph\n",
    "graph = defaultdict(list)\n",
    "# Adding edges to the graph\n",
    "addEdge(graph, 'a', 'c')\n",
    "addEdge(graph, 'b', 'c')\n",
    "addEdge(graph, 'b', 'e')\n",
    "addEdge(graph, 'c', 'd')\n",
    "addEdge(graph, 'c', 'e')\n",
    "addEdge(graph, 'c', 'a')\n",
    "addEdge(graph, 'c', 'b')\n",
    "addEdge(graph, 'e', 'b')\n",
    "addEdge(graph, 'd', 'c')\n",
    "addEdge(graph, 'e', 'c')\n",
    "# Printing the generated edges of the graph\n",
    "print(generate_edges(graph))"
   ]
  },
  {
   "cell_type": "markdown",
   "id": "a6d4a8c6-17ec-4676-90cc-efee865ca8e1",
   "metadata": {},
   "source": [
    "find shortest path"
   ]
  },
  {
   "cell_type": "code",
   "execution_count": 5,
   "id": "908b1b07-dc0c-4d9a-b691-f23716c7d79b",
   "metadata": {},
   "outputs": [
    {
     "name": "stdout",
     "output_type": "stream",
     "text": [
      "Shortest path from A to D: ['A', 'B', 'D']\n"
     ]
    }
   ],
   "source": [
    "def find_shortest_path(graph, start, end, path=[]):\n",
    "    path = path + [start]   \n",
    "    # If we reach the destination node, return the path\n",
    "    if start == end:\n",
    "        return path  \n",
    "    # If the starting node has no neighbors\n",
    "    if start not in graph:\n",
    "        return None  \n",
    "    shortest = None\n",
    "    # Explore neighbors\n",
    "    for neighbor in graph[start]:\n",
    "        if neighbor not in path:  # Avoid cycles\n",
    "            new_path = find_shortest_path(graph, neighbor, end, path) #recursive call\n",
    "            if new_path:  # If a path was found\n",
    "                if shortest is None or len(new_path) < len(shortest):\n",
    "                    shortest = new_path\n",
    "    return shortest\n",
    "\n",
    "# Example graph\n",
    "graph = {\n",
    "    'A': ['B', 'C'],\n",
    "    'B': ['A', 'C', 'D'],\n",
    "    'C': ['A', 'B', 'D'],\n",
    "    'D': ['B', 'C']\n",
    "}\n",
    "\n",
    "# Example usage\n",
    "start_node = 'A'\n",
    "end_node = 'D'\n",
    "path = find_shortest_path(graph, start_node, end_node)\n",
    "print(f\"Shortest path from {start_node} to {end_node}: {path}\")\n"
   ]
  },
  {
   "cell_type": "markdown",
   "id": "ecdff23b-6565-4a52-804e-ea4a9537263c",
   "metadata": {},
   "source": [
    "Adjacency List"
   ]
  },
  {
   "cell_type": "code",
   "execution_count": 22,
   "id": "cb2f4ba2-3b07-4cb4-af2f-a2b349086927",
   "metadata": {},
   "outputs": [
    {
     "name": "stdout",
     "output_type": "stream",
     "text": [
      "Graph Representation:\n",
      "1 -> 2 edge weight: 1\n",
      "1 -> 3 edge weight: 1\n",
      "2 -> 3 edge weight: 3\n",
      "3 -> 4 edge weight: 4\n",
      "4 -> 1 edge weight: 5\n",
      "Internal Representation: {1: [[2, 1], [3, 1]], 2: [[3, 3]], 3: [[4, 4]], 4: [[1, 5]]}\n"
     ]
    }
   ],
   "source": [
    "# Global variables to store the graph and number of vertices\n",
    "graph = {}\n",
    "vertices_no = 0\n",
    "\n",
    "# Function to add a vertex to the graph\n",
    "def add_vertex(v):\n",
    "    global graph\n",
    "    global vertices_no\n",
    "    if v in graph:\n",
    "        print(\"Vertex\", v, \"already exists.\")\n",
    "    else:\n",
    "        vertices_no += 1\n",
    "        graph[v] = []   # { '1':[]}\n",
    "\n",
    "# Function to add an edge between two vertices with an edge weight\n",
    "def add_edge(v1, v2, e):\n",
    "    global graph\n",
    "    # Check if vertex v1 exists in the graph\n",
    "    if v1 not in graph:\n",
    "        print(\"Vertex\", v1, \"does not exist.\")\n",
    "    # Check if vertex v2 exists in the graph\n",
    "    elif v2 not in graph:\n",
    "        print(\"Vertex\", v2, \"does not exist.\")\n",
    "    else:\n",
    "        # Add edge (v2, e) to the list of edges for vertex v1\n",
    "        temp = [v2, e]\n",
    "        graph[v1].append(temp)\n",
    "\n",
    "# Function to print the graph\n",
    "def print_graph():\n",
    "    global graph\n",
    "    for vertex in graph:\n",
    "        for edges in graph[vertex]:\n",
    "            print(vertex, \"->\", edges[0], \"edge weight:\", edges[1])\n",
    "\n",
    "# Driver code to demonstrate graph operations\n",
    "add_vertex(1)\n",
    "add_vertex(2)\n",
    "add_vertex(3)\n",
    "add_vertex(4)\n",
    "\n",
    "add_edge(1, 2, 1)\n",
    "add_edge(1, 3, 1)\n",
    "add_edge(2, 3, 3)\n",
    "add_edge(3, 4, 4)\n",
    "add_edge(4, 1, 5)\n",
    "\n",
    "# Print the graph\n",
    "print(\"Graph Representation:\")\n",
    "print_graph()\n",
    "\n",
    "# Print the internal representation of the graph\n",
    "print(\"Internal Representation:\", graph)\n"
   ]
  },
  {
   "cell_type": "markdown",
   "id": "5fe440f7-14c2-40fd-81a2-dc795696c95d",
   "metadata": {},
   "source": [
    "Adjacency matrix"
   ]
  },
  {
   "cell_type": "code",
   "execution_count": 11,
   "id": "b413b001-ccba-4de0-9c22-84c84fe97f07",
   "metadata": {},
   "outputs": [
    {
     "name": "stdout",
     "output_type": "stream",
     "text": [
      "[0, 1, 1]\n",
      "[1, 0, 1]\n",
      "[1, 1, 0]\n",
      "\n",
      "[0, 1, 0, 1]\n",
      "[1, 0, 1, 1]\n",
      "[0, 1, 0, 1]\n",
      "[1, 1, 1, 0]\n"
     ]
    }
   ],
   "source": [
    "def create_adjacency_matrix(V, edges):\n",
    "    # Initialize an empty V x V matrix with all zeros\n",
    "    matrix = [[0] * V for _ in range(V)]   \n",
    "    # Populate the matrix based on the edges\n",
    "    for edge in edges: \n",
    "        u, v = edge   #(0,1)\n",
    "        matrix[u][v] = 1\n",
    "        matrix[v][u] = 1  # Undirected graph  \n",
    "    return matrix\n",
    "# Example 1\n",
    "V1 = 3\n",
    "edges1 = [(0, 1), (1, 2), (2, 0)]\n",
    "adj_matrix1 = create_adjacency_matrix(V1, edges1)\n",
    "for row in adj_matrix1:\n",
    "    print(row)\n",
    "print()\n",
    "# Example 2\n",
    "V2 = 4\n",
    "edges2 = [(0, 1), (1, 2), (1, 3), (2, 3), (3, 0)]\n",
    "adj_matrix2 = create_adjacency_matrix(V2, edges2)\n",
    "for row in adj_matrix2:\n",
    "    print(row)"
   ]
  },
  {
   "cell_type": "code",
   "execution_count": 13,
   "id": "24235f00-4e8a-40f7-9116-e7e7f12b686f",
   "metadata": {},
   "outputs": [
    {
     "name": "stdout",
     "output_type": "stream",
     "text": [
      "Graph Representation:\n",
      "1 -> 2 edge weight: 1\n",
      "1 -> 3 edge weight: 1\n",
      "2 -> 3 edge weight: 3\n",
      "3 -> 4 edge weight: 4\n",
      "4 -> 1 edge weight: 5\n",
      "Internal representation: [[0, 1, 1, 0], [0, 0, 3, 0], [0, 0, 0, 4], [5, 0, 0, 0]]\n"
     ]
    }
   ],
   "source": [
    "# Global variables to store the graph, number of vertices, and vertices set\n",
    "graph = []\n",
    "vertices_no = 0\n",
    "vertices = []\n",
    "# Function to add a vertex to the graph\n",
    "def add_vertex(v):\n",
    "    global graph\n",
    "    global vertices_no\n",
    "    global vertices  \n",
    "    if v in vertices:\n",
    "        print(\"Vertex\", v, \"already exists.\")\n",
    "    else:\n",
    "        vertices_no += 1\n",
    "        vertices.append(v)    #here we are adding 1,2,3,4 in vertices\n",
    "               # Initialize the graph matrix with zeros for new vertex\n",
    "        if vertices_no > 1:            \n",
    "            for row in graph:   # Extend each row in the graph with zeros for the new vertex[0 0 0]\n",
    "                row.append(0)\n",
    "                   # Add a new row (list) with zeros for the new vertex\n",
    "            new_row = [0] * vertices_no     #[0 0]\n",
    "            graph.append(new_row)          \n",
    "\n",
    "# Function to add an edge between two vertices with an edge weight\n",
    "def add_edge(v1, v2, e):\n",
    "    global graph\n",
    "    global vertices\n",
    "    \n",
    "    # Check if vertex v1 is a valid vertex\n",
    "    if v1 not in vertices:\n",
    "        print(\"Vertex\", v1, \"does not exist.\")\n",
    "    # Check if vertex v2 is a valid vertex\n",
    "    elif v2 not in vertices:\n",
    "        print(\"Vertex\", v2, \"does not exist.\")\n",
    "    else:\n",
    "        index1 = vertices.index(v1)   #0 as vertices[1,2,3,4] as [0,1,2,3]\n",
    "        index2 = vertices.index(v2)    #1 as vertices[1,2,3,4] as [0,1,2,3]  \n",
    "        # Ensure the graph matrix has enough rows and columns to access\n",
    "        while len(graph) <= index1:\n",
    "            graph.append([0] * vertices_no)     \n",
    "              # Update the edge weight in the graph matrix\n",
    "        graph[index1][index2] = e   #graph[0][1]=1\n",
    "# Function to print the graph\n",
    "def print_graph():\n",
    "    global graph\n",
    "    global vertices_no\n",
    "    global vertices  \n",
    "    for i in range(vertices_no):\n",
    "        for j in range(vertices_no):\n",
    "            if graph[i][j] != 0:\n",
    "                print(vertices[i], \"->\", vertices[j], \"edge weight:\", graph[i][j])\n",
    "# Driver code to demonstrate graph operations\n",
    "add_vertex(1)\n",
    "add_vertex(2)\n",
    "add_vertex(3)\n",
    "add_vertex(4)\n",
    "\n",
    "add_edge(1, 2, 1)\n",
    "add_edge(1, 3, 1)\n",
    "add_edge(2, 3, 3)\n",
    "add_edge(3, 4, 4)\n",
    "add_edge(4, 1, 5)\n",
    "\n",
    "# Print the graph\n",
    "print(\"Graph Representation:\")\n",
    "print_graph()\n",
    "\n",
    "# Print the internal representation of the graph (adjacency matrix)\n",
    "print(\"Internal representation:\", graph)\n"
   ]
  },
  {
   "cell_type": "code",
   "execution_count": null,
   "id": "303c5a25-d776-4b9f-a1d6-b97e7cc95648",
   "metadata": {},
   "outputs": [],
   "source": []
  }
 ],
 "metadata": {
  "kernelspec": {
   "display_name": "Python 3 (ipykernel)",
   "language": "python",
   "name": "python3"
  },
  "language_info": {
   "codemirror_mode": {
    "name": "ipython",
    "version": 3
   },
   "file_extension": ".py",
   "mimetype": "text/x-python",
   "name": "python",
   "nbconvert_exporter": "python",
   "pygments_lexer": "ipython3",
   "version": "3.12.4"
  }
 },
 "nbformat": 4,
 "nbformat_minor": 5
}
