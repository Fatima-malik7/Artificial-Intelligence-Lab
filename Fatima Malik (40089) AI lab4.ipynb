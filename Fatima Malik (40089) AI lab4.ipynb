{
 "cells": [
  {
   "cell_type": "code",
   "execution_count": 4,
   "id": "cab22faa-381a-427a-b7fc-1b7d01a666d8",
   "metadata": {},
   "outputs": [
    {
     "name": "stdout",
     "output_type": "stream",
     "text": [
      "The sum of all numbers in the list is: 17\n"
     ]
    }
   ],
   "source": [
    "#q1\n",
    "#Sum of all numbers in a list\n",
    "numbers = [5,7,3,0,2]\n",
    "total = sum(numbers)\n",
    "print(\"The sum of all numbers in the list is:\", total)"
   ]
  },
  {
   "cell_type": "code",
   "execution_count": 9,
   "id": "d995a00b-3745-4c84-bc88-43f9380459e2",
   "metadata": {},
   "outputs": [
    {
     "name": "stdin",
     "output_type": "stream",
     "text": [
      "Enter roll number to check:  1111\n"
     ]
    },
    {
     "name": "stdout",
     "output_type": "stream",
     "text": [
      "Absent\n",
      "Roll Number 1111 is: None\n"
     ]
    }
   ],
   "source": [
    "#q2\n",
    "#Define function that accepts roll number and returns whether the student is present or absent\n",
    "present_roll_numbers = [1001, 1002, 1003, 1004, 1005]\n",
    "def check_attendance(roll_number):\n",
    "    # Check if the student is present or absent based on their roll number.\n",
    "    if roll_number in present_roll_numbers:\n",
    "        print( \"Present\")\n",
    "    else:\n",
    "        print( \"Absent\")\n",
    "roll_number_input = int(input(\"Enter roll number to check: \"))  # Replace with roll number you want to check\n",
    "attendance_status = check_attendance(roll_number_input)"
   ]
  },
  {
   "cell_type": "code",
   "execution_count": 15,
   "id": "c47f0d7e-be2b-44b2-806a-118e05a58088",
   "metadata": {},
   "outputs": [
    {
     "name": "stdout",
     "output_type": "stream",
     "text": [
      "Name: Fatima, Age: 21, Gender: Female\n",
      "None\n"
     ]
    }
   ],
   "source": [
    "#q3\n",
    "#Define class and create object of class, access attributes and assign new values\n",
    "class Person:\n",
    "    def __init__(self, name, age, gender):\n",
    "        self.name = name\n",
    "        self.age = age\n",
    "        self.gender = gender\n",
    "\n",
    "    def display_info(self):\n",
    "        print( f\"Name: {self.name}, Age: {self.age}, Gender: {self.gender}\")\n",
    "\n",
    "# Create an object of the Person class\n",
    "person1 = Person(\"Fatima\", 21, \"Female\")\n",
    "\n",
    "# Display the person's information\n",
    "print(person1.display_info())\n",
    "    "
   ]
  },
  {
   "cell_type": "code",
   "execution_count": 11,
   "id": "5b33045d-0d84-4f2a-b96d-9127f05afb76",
   "metadata": {},
   "outputs": [
    {
     "name": "stdout",
     "output_type": "stream",
     "text": [
      "Name: Fatima, Age: 21, Gender: Female\n",
      "Name: Ahmed, Age: 25, Gender: Male\n",
      "Name: Ushna, Age: 28, Gender: Female\n"
     ]
    }
   ],
   "source": [
    "#q4\n",
    "#Create multiple objects in single class\n",
    "class Person:\n",
    "    def __init__(self, name, age, gender):\n",
    "        self.name = name\n",
    "        self.age = age\n",
    "        self.gender = gender\n",
    "\n",
    "    def display_info(self):\n",
    "        print( f\"Name: {self.name}, Age: {self.age}, Gender: {self.gender})\"\n",
    "person1 = Person(\"Fatima\", 21, \"Female\")\n",
    "person2 = Person(\"Ahmed\", 25, \"Male\")\n",
    "person3 = Person(\"Ushna\", 28, \"Female\")\n",
    "\n",
    "print(person1.display_info()) \n",
    "print(person2.display_info())  \n",
    "print(person3.display_info())  \n"
   ]
  },
  {
   "cell_type": "code",
   "execution_count": 27,
   "id": "6739da64-1789-493f-a553-5cce3292effd",
   "metadata": {},
   "outputs": [
    {
     "name": "stdout",
     "output_type": "stream",
     "text": [
      "Fatima's average grade is: 80.25\n"
     ]
    }
   ],
   "source": [
    "#q5\n",
    "#Create a student class with attributes name,age and grades (list). Add a method average grade that calculates and return the average of the grades\n",
    "class Student:\n",
    "    def __init__(self, name, age, grades):\n",
    "        self.name = name\n",
    "        self.age = age\n",
    "        self.grades = grades  \n",
    "\n",
    "    def average_grade(self):\n",
    "        if not self.grades:\n",
    "            return 0  # Return 0 if there are no grades\n",
    "        return sum(self.grades) / len(self.grades)\n",
    "\n",
    "\n",
    "student1 =Student(\"Fatima\", 20, [72, 90, 78, 81])\n",
    "print(f\"{student1.name}'s average grade is: {student1.average_grade():.2f}\")\n"
   ]
  },
  {
   "cell_type": "code",
   "execution_count": null,
   "id": "6af920d9-ecd1-4c32-b950-1cc004217d39",
   "metadata": {},
   "outputs": [],
   "source": []
  }
 ],
 "metadata": {
  "kernelspec": {
   "display_name": "Python 3 (ipykernel)",
   "language": "python",
   "name": "python3"
  },
  "language_info": {
   "codemirror_mode": {
    "name": "ipython",
    "version": 3
   },
   "file_extension": ".py",
   "mimetype": "text/x-python",
   "name": "python",
   "nbconvert_exporter": "python",
   "pygments_lexer": "ipython3",
   "version": "3.11.7"
  }
 },
 "nbformat": 4,
 "nbformat_minor": 5
}
