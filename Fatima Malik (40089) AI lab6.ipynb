{
 "cells": [
  {
   "cell_type": "code",
   "execution_count": 27,
   "id": "9ed79046-b212-45be-a5fd-cf7f5d2e34f6",
   "metadata": {},
   "outputs": [
    {
     "name": "stdout",
     "output_type": "stream",
     "text": [
      "Initial environment conditions: {'A': 1, 'B': 0}\n",
      "Vacuum is randomly placed at Location A.\n",
      "Location A is Dirty.\n",
      "Location A has been Cleaned.\n",
      "Moving to Location B...\n",
      "Location B is Clean.\n",
      "Location B is already Clean.\n",
      "Final environment conditions: {'A': 0, 'B': 0}\n",
      "Performance Measurement: 1\n"
     ]
    }
   ],
   "source": [
    "import random\n",
    "class Environment:\n",
    "    def __init__(self):\n",
    "        # Initialize location conditions randomly (0: clean, 1: dirty)\n",
    "        self.locationCondition = {\n",
    "            'A': random.randint(0, 1),  # 1 means dirty, 0 means clean   #dictionary \n",
    "            'B': random.randint(0, 1)\n",
    "        }\n",
    "class SimpleReflexVacuumAgent:\n",
    "    def __init__(self, environment):\n",
    "        self.environment = environment\n",
    "        self.score = 0 \n",
    "        self.vacuumLocation = random.randint(0, 1)  \n",
    "\n",
    "        # Display the initial condition of the environment\n",
    "        print(\"Initial environment conditions:\", self.environment.locationCondition)\n",
    "\n",
    "        # Perform cleaning based on vacuum location\n",
    "        if self.vacuumLocation == 0:\n",
    "            print(\"Vacuum is randomly placed at Location A.\")\n",
    "            self.clean_location('A')\n",
    "            self.move_and_clean('B')\n",
    "        else:\n",
    "            print(\"Vacuum is randomly placed at Location B.\")\n",
    "            self.clean_location('B')\n",
    "            self.move_and_clean('A')\n",
    "\n",
    "        # Output final conditions and score\n",
    "        print(\"Final environment conditions:\", self.environment.locationCondition)\n",
    "        print(\"Performance Measurement: \" + str(self.score))\n",
    "\n",
    "    def clean_location(self, location):\n",
    "        print(f\"Location {location} is {'Dirty' if self.environment.locationCondition[location] == 1 else 'Clean'}.\")\n",
    "        if self.environment.locationCondition[location] == 1:  # If dirty\n",
    "            self.environment.locationCondition[location] = 0  # Clean the location\n",
    "            self.score += 1\n",
    "            print(f\"Location {location} has been Cleaned.\")\n",
    "        else:\n",
    "            print(f\"Location {location} is already Clean.\")\n",
    "\n",
    "    def move_and_clean(self, location):\n",
    "        print(f\"Moving to Location {location}...\")\n",
    "        self.clean_location(location)\n",
    "\n",
    "# Create an environment and a vacuum agent\n",
    "theEnvironment = Environment()\n",
    "theVacuum = SimpleReflexVacuumAgent(theEnvironment)\n"
   ]
  },
  {
   "cell_type": "code",
   "execution_count": null,
   "id": "0900cddd-b23e-4a5c-9992-dbd8c49b4aa0",
   "metadata": {},
   "outputs": [],
   "source": []
  }
 ],
 "metadata": {
  "kernelspec": {
   "display_name": "Python 3 (ipykernel)",
   "language": "python",
   "name": "python3"
  },
  "language_info": {
   "codemirror_mode": {
    "name": "ipython",
    "version": 3
   },
   "file_extension": ".py",
   "mimetype": "text/x-python",
   "name": "python",
   "nbconvert_exporter": "python",
   "pygments_lexer": "ipython3",
   "version": "3.12.4"
  }
 },
 "nbformat": 4,
 "nbformat_minor": 5
}
