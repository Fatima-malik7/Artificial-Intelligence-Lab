{
 "cells": [
  {
   "cell_type": "code",
   "execution_count": 5,
   "id": "daf8db94-3076-4b50-8337-81e3101fc2b8",
   "metadata": {},
   "outputs": [
    {
     "name": "stdout",
     "output_type": "stream",
     "text": [
      "fatima\n",
      "20\n",
      "House 123, street 8, Model town Islamabad\n",
      "92311836482\n",
      "61101582148289\n"
     ]
    }
   ],
   "source": [
    "name = \"fatima\"\n",
    "age = 20\n",
    "address = \"House 123, street 8, Model town Islamabad\"\n",
    "contact = 92311836482\n",
    "cnic = 61101582148289\n",
    "print(name)\n",
    "print(age)\n",
    "print(address)\n",
    "print(contact)\n",
    "print(cnic)"
   ]
  },
  {
   "cell_type": "code",
   "execution_count": 27,
   "id": "78527df4-29d8-4307-bd59-dc319b642a99",
   "metadata": {},
   "outputs": [
    {
     "name": "stdin",
     "output_type": "stream",
     "text": [
      "Enter your name:  fatima\n",
      "Enter your sap:  40089\n"
     ]
    },
    {
     "name": "stdout",
     "output_type": "stream",
     "text": [
      "Hey fatima your sap is 40089\n"
     ]
    }
   ],
   "source": [
    "name = input(\"Enter your name: \")\n",
    "sap = input(\"Enter your sap: \")\n",
    "print(\"Hey \"+ (name) + \" your sap is \" +(sap))"
   ]
  },
  {
   "cell_type": "code",
   "execution_count": 43,
   "id": "59d35110-1055-405e-b3f7-e5f9ddc0bebf",
   "metadata": {},
   "outputs": [
    {
     "name": "stdout",
     "output_type": "stream",
     "text": [
      "a = 10\n",
      "b = 5\n"
     ]
    }
   ],
   "source": [
    "a = 5\n",
    "b = 10\n",
    "a, b = b, a\n",
    "print(\"a =\", a)  \n",
    "print(\"b =\", b)  "
   ]
  },
  {
   "cell_type": "code",
   "execution_count": 31,
   "id": "17189e3a-7259-4edf-8efc-4d32c59a912f",
   "metadata": {},
   "outputs": [
    {
     "data": {
      "text/plain": [
       "16"
      ]
     },
     "execution_count": 31,
     "metadata": {},
     "output_type": "execute_result"
    }
   ],
   "source": [
    "msg = \"Programming Language\"\n",
    "msg.find(\"r\")\n",
    "msg.find(\"a\")\n",
    "msg.find(\"m\")\n",
    "msg.find(\"n\")\n",
    "msg.find(\"u\")"
   ]
  },
  {
   "cell_type": "code",
   "execution_count": 40,
   "id": "45a5a33a-f076-4c51-86ef-0699857d34fe",
   "metadata": {},
   "outputs": [
    {
     "name": "stdin",
     "output_type": "stream",
     "text": [
      "Enter your choice ( a or b): v\n"
     ]
    },
    {
     "name": "stdout",
     "output_type": "stream",
     "text": [
      "Invalid user!\n"
     ]
    }
   ],
   "source": [
    "choice = input(\"Enter your choice ( a or b):\")\n",
    "a == \"ushna\"\n",
    "b == \"fatima\"\n",
    "if choice == a:\n",
    "    print(\"Hello ushna\")\n",
    "elif choice == b:\n",
    "    print(\"Hello fatima\")\n",
    "else: \n",
    "    print(\"Invalid user!\")\n",
    "    \n",
    "    "
   ]
  },
  {
   "cell_type": "code",
   "execution_count": null,
   "id": "e1d25f3d-71ae-494c-bf71-23cbc9f3fd21",
   "metadata": {},
   "outputs": [],
   "source": []
  }
 ],
 "metadata": {
  "kernelspec": {
   "display_name": "Python 3 (ipykernel)",
   "language": "python",
   "name": "python3"
  },
  "language_info": {
   "codemirror_mode": {
    "name": "ipython",
    "version": 3
   },
   "file_extension": ".py",
   "mimetype": "text/x-python",
   "name": "python",
   "nbconvert_exporter": "python",
   "pygments_lexer": "ipython3",
   "version": "3.11.7"
  }
 },
 "nbformat": 4,
 "nbformat_minor": 5
}
