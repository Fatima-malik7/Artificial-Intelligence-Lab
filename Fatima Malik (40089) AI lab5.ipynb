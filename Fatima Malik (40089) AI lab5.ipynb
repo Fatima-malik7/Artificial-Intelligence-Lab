{
 "cells": [
  {
   "cell_type": "code",
   "execution_count": 6,
   "id": "8cb59a24-b739-4d40-af80-43e4fdca19e2",
   "metadata": {},
   "outputs": [
    {
     "name": "stdout",
     "output_type": "stream",
     "text": [
      "[[ True  True]\n",
      " [ True  True]]\n"
     ]
    }
   ],
   "source": [
    "#Task 1\n",
    "import numpy as np\n",
    "arr = np.array([[1.5, 0.9], [3.1, 4.3]], dtype=float)\n",
    "boolArr = arr.astype(bool)\n",
    "print(boolArr)"
   ]
  },
  {
   "cell_type": "code",
   "execution_count": 14,
   "id": "51f5c01d-4ac9-4170-969d-4a3bfec477df",
   "metadata": {},
   "outputs": [
    {
     "name": "stdout",
     "output_type": "stream",
     "text": [
      "[ 1  2 55  3  4  5]\n"
     ]
    }
   ],
   "source": [
    "#Task 2\n",
    "import numpy as np\n",
    "a=np.array([1,2,3,4,5])\n",
    "b=np.insert(a,2,55) \n",
    "print(b)"
   ]
  },
  {
   "cell_type": "code",
   "execution_count": 26,
   "id": "9af1d41b-6ece-4248-aca5-53995155722d",
   "metadata": {},
   "outputs": [
    {
     "name": "stdout",
     "output_type": "stream",
     "text": [
      "[  0   2   4   6   8  10  12  14  16  18  20  22  24  26  28  30  32  34\n",
      "  36  38  40  42  44  46  48  50  52  54  56  58  60  62  64  66  68  70\n",
      "  72  74  76  78  80  82  84  86  88  90  92  94  96  98 100]\n"
     ]
    }
   ],
   "source": [
    "#Task 3\n",
    "import numpy as np\n",
    "arr = np.arange(0, 101, 2)\n",
    "print(arr)"
   ]
  },
  {
   "cell_type": "code",
   "execution_count": 15,
   "id": "cbd9ba61-6de4-4e9c-8a22-8c7a099d602c",
   "metadata": {},
   "outputs": [
    {
     "name": "stdout",
     "output_type": "stream",
     "text": [
      "[[19 22]\n",
      " [43 50]]\n"
     ]
    }
   ],
   "source": [
    "#Task 4\n",
    "import numpy as np\n",
    "a = np.array([[1, 2], [3, 4]])\n",
    "b = np.array([[5, 6], [7, 8]])\n",
    "result = np.dot(a, b)\n",
    "print(result)"
   ]
  },
  {
   "cell_type": "code",
   "execution_count": 37,
   "id": "16ed2a48-1fa7-4e44-88a1-dbceed374a48",
   "metadata": {},
   "outputs": [
    {
     "name": "stdin",
     "output_type": "stream",
     "text": [
      "Enter number to check if present in array or not:  1\n"
     ]
    },
    {
     "name": "stdout",
     "output_type": "stream",
     "text": [
      "1 is not present in the array.\n"
     ]
    }
   ],
   "source": [
    "#Task 5\n",
    "array_1d = [10, 20, 30, 40, 50]\n",
    "numCheck = int(input(\"Enter number to check if present in array or not: \"))\n",
    "\n",
    "for num in array_1d:\n",
    "    if num == numCheck:\n",
    "        print(f\"{numCheck} is present in the array.\")\n",
    "        break\n",
    "else:\n",
    "    print(f\"{numCheck} is not present in the array.\")\n"
   ]
  },
  {
   "cell_type": "code",
   "execution_count": null,
   "id": "fc42c53d-6725-4a40-88ce-59f5bc94b8b6",
   "metadata": {},
   "outputs": [],
   "source": []
  }
 ],
 "metadata": {
  "kernelspec": {
   "display_name": "Python 3 (ipykernel)",
   "language": "python",
   "name": "python3"
  },
  "language_info": {
   "codemirror_mode": {
    "name": "ipython",
    "version": 3
   },
   "file_extension": ".py",
   "mimetype": "text/x-python",
   "name": "python",
   "nbconvert_exporter": "python",
   "pygments_lexer": "ipython3",
   "version": "3.11.7"
  }
 },
 "nbformat": 4,
 "nbformat_minor": 5
}
